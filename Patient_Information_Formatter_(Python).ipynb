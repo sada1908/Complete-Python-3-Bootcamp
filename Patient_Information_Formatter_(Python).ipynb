{
  "cells": [
    {
      "cell_type": "markdown",
      "metadata": {
        "id": "view-in-github",
        "colab_type": "text"
      },
      "source": [
        "<a href=\"https://colab.research.google.com/github/sada1908/Complete-Python-3-Bootcamp/blob/master/Patient_Information_Formatter_(Python).ipynb\" target=\"_parent\"><img src=\"https://colab.research.google.com/assets/colab-badge.svg\" alt=\"Open In Colab\"/></a>"
      ]
    },
    {
      "cell_type": "code",
      "source": [
        "def get_full_name():\n",
        "    while True:\n",
        "        full_name = input(\"Enter patient's full name (e.g., John Doe): \").strip()\n",
        "        if full_name:\n",
        "            # Capitalize each word in the name\n",
        "            return ' '.join(word.capitalize() for word in full_name.split())\n",
        "        else:\n",
        "            print(\"Full name cannot be empty. Please try again.\")\n",
        "\n",
        "def get_numeric_input(prompt, data_type=float):\n",
        "    while True:\n",
        "        try:\n",
        "            value = data_type(input(prompt))\n",
        "            if value <= 0:\n",
        "                print(\"Value must be positive. Please try again.\")\n",
        "            else:\n",
        "                return value\n",
        "        except ValueError:\n",
        "            print(\"Invalid input. Please enter a valid number.\")\n",
        "\n",
        "def get_insurance_status():\n",
        "    while True:\n",
        "        response = input(\"Do they have insurance? (yes/no): \").strip().lower()\n",
        "        if response == 'yes':\n",
        "            return True\n",
        "        elif response == 'no':\n",
        "            return False\n",
        "        else:\n",
        "            print(\"Invalid response. Please answer 'yes' or 'no'.\")\n",
        "\n",
        "def calculate_bmi(weight_kg, height_cm):\n",
        "    if height_cm == 0:\n",
        "        return 0.0 # Avoid division by zero\n",
        "    height_m = height_cm / 100  # Convert cm to meters\n",
        "    return weight_kg / (height_m ** 2)\n",
        "\n",
        "def format_name(full_name):\n",
        "    parts = full_name.split()\n",
        "    if len(parts) > 1:\n",
        "        last_name = parts[-1]\n",
        "        first_name = ' '.join(parts[:-1])\n",
        "        return f\"{last_name}, {first_name}\"\n",
        "    else:\n",
        "        # If only one name is provided, treat it as the first name\n",
        "        return full_name\n",
        "\n",
        "def display_report(name, age, weight_kg, height_cm, insurance_status):\n",
        "    print(\"\\n--- Patient Information Report ---\")\n",
        "\n",
        "    # Format name\n",
        "    formatted_n = format_name(name)\n",
        "    print(f\"Formatted Name: {formatted_n}\")\n",
        "\n",
        "    # Display age\n",
        "    print(f\"Age: {age} years\")\n",
        "\n",
        "    # Convert weight to pounds and display both\n",
        "    weight_lbs = weight_kg * 2.20462\n",
        "    print(f\"Weight: {weight_kg:.2f} kg ({weight_lbs:.2f} lbs)\")\n",
        "\n",
        "    # Calculate and display BMI\n",
        "    bmi = calculate_bmi(weight_kg, height_cm)\n",
        "    print(f\"B.M.I.: {bmi:.1f}\") # Display BMI with 1 decimal place\n",
        "\n",
        "    # Display insurance status\n",
        "    insurance_text = \"Insured\" if insurance_status else \"Uninsured\"\n",
        "    print(f\"Insurance Status: {insurance_text}\")\n",
        "\n",
        "    print(\"----------------------------------\")\n",
        "\n",
        "def main():\n",
        "    \"\"\"\n",
        "    Main function to run the patient information formatter program.\n",
        "    Orchestrates input collection, processing, and report display.\n",
        "    \"\"\"\n",
        "    print(\"Welcome to the Patient Information Formatter!\")\n",
        "\n",
        "    # 1. Collect Information\n",
        "    patient_full_name = get_full_name()\n",
        "    patient_age = get_numeric_input(\"Enter patient's age (years): \", int)\n",
        "    patient_weight_kg = get_numeric_input(\"Enter patient's weight (kg): \")\n",
        "    patient_height_cm = get_numeric_input(\"Enter patient's height (cm): \")\n",
        "    patient_insurance = get_insurance_status()\n",
        "\n",
        "    # 2. Display Formatted Report\n",
        "    display_report(\n",
        "        patient_full_name,\n",
        "        patient_age,\n",
        "        patient_weight_kg,\n",
        "        patient_height_cm,\n",
        "        patient_insurance\n",
        "    )\n",
        "\n",
        "if __name__ == \"__main__\":\n",
        "    main()"
      ],
      "outputs": [
        {
          "output_type": "stream",
          "name": "stdout",
          "text": [
            "Welcome to the Patient Information Formatter!\n",
            "Enter patient's full name (e.g., John Doe): John Doe\n",
            "Enter patient's age (years): 55\n",
            "Enter patient's weight (kg): 78\n",
            "Enter patient's height (cm): 180\n",
            "Do they have insurance? (yes/no): yes\n",
            "\n",
            "--- Patient Information Report ---\n",
            "Formatted Name: Doe, John\n",
            "Age: 55 years\n",
            "Weight: 78.00 kg (171.96 lbs)\n",
            "B.M.I.: 24.1\n",
            "Insurance Status: Insured\n",
            "----------------------------------\n"
          ]
        }
      ],
      "execution_count": 1,
      "metadata": {
        "colab": {
          "base_uri": "https://localhost:8080/"
        },
        "id": "XXGfspBKjuLw",
        "outputId": "7eba74d4-81fc-48bd-cc84-87a3aed61818"
      }
    }
  ],
  "metadata": {
    "colab": {
      "provenance": [],
      "include_colab_link": true
    },
    "kernelspec": {
      "display_name": "Python 3",
      "name": "python3"
    }
  },
  "nbformat": 4,
  "nbformat_minor": 0
}